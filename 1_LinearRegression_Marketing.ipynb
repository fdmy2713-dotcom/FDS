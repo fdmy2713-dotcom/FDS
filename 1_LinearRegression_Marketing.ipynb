{
  "cells": [
    {
      "cell_type": "markdown",
      "metadata": {
        "id": "view-in-github",
        "colab_type": "text"
      },
      "source": [
        "<a href=\"https://colab.research.google.com/github/fdmy2713-dotcom/FDS/blob/main/1_LinearRegression_Marketing.ipynb\" target=\"_parent\"><img src=\"https://colab.research.google.com/assets/colab-badge.svg\" alt=\"Open In Colab\"/></a>"
      ]
    },
    {
      "cell_type": "markdown",
      "id": "f3f50109",
      "metadata": {
        "id": "f3f50109"
      },
      "source": [
        "## 1. Import data"
      ]
    },
    {
      "cell_type": "code",
      "execution_count": 4,
      "id": "45fa1e12",
      "metadata": {
        "id": "45fa1e12"
      },
      "outputs": [],
      "source": [
        "##import os\n",
        "##os.chdir('C:\\\\Users\\\\taiho\\\\Documents\\\\D_Drive\\\\Teaching Assignments\\\\PSB_Academy\\\\Hertfordshire_Course\\\\2_BSc_Intro_ML_and_NN\\\\4_Personal_Resources\\\\2_Codes\\\\data')\n",
        "\n",
        "import pandas as pd\n",
        "##df = pd.read_csv('marketing.csv')\n",
        "##df.head()"
      ]
    },
    {
      "cell_type": "code",
      "source": [
        "from google.colab import drive\n",
        "drive.mount('/content/drive')\n",
        "file_path = '/content/drive/MyDrive/MSc in Data Science/FDS/Shared/02_Codes/data/marketing.csv'\n",
        "df = pd.read_csv(file_path)\n",
        "df.head()"
      ],
      "metadata": {
        "colab": {
          "base_uri": "https://localhost:8080/",
          "height": 243
        },
        "id": "loU4jUJXptBx",
        "outputId": "498391a9-713e-4dc5-ba77-79dd198fdf40"
      },
      "id": "loU4jUJXptBx",
      "execution_count": 5,
      "outputs": [
        {
          "output_type": "stream",
          "name": "stdout",
          "text": [
            "Drive already mounted at /content/drive; to attempt to forcibly remount, call drive.mount(\"/content/drive\", force_remount=True).\n"
          ]
        },
        {
          "output_type": "execute_result",
          "data": {
            "text/plain": [
              "   youtube  facebook  newspaper  sales\n",
              "0   276.12     45.36      83.04  26.52\n",
              "1    53.40     47.16      54.12  12.48\n",
              "2    20.64     55.08      83.16  11.16\n",
              "3   181.80     49.56      70.20  22.20\n",
              "4   216.96     12.96      70.08  15.48"
            ],
            "text/html": [
              "\n",
              "  <div id=\"df-429c523c-6c63-4e03-afaa-d94b79176228\" class=\"colab-df-container\">\n",
              "    <div>\n",
              "<style scoped>\n",
              "    .dataframe tbody tr th:only-of-type {\n",
              "        vertical-align: middle;\n",
              "    }\n",
              "\n",
              "    .dataframe tbody tr th {\n",
              "        vertical-align: top;\n",
              "    }\n",
              "\n",
              "    .dataframe thead th {\n",
              "        text-align: right;\n",
              "    }\n",
              "</style>\n",
              "<table border=\"1\" class=\"dataframe\">\n",
              "  <thead>\n",
              "    <tr style=\"text-align: right;\">\n",
              "      <th></th>\n",
              "      <th>youtube</th>\n",
              "      <th>facebook</th>\n",
              "      <th>newspaper</th>\n",
              "      <th>sales</th>\n",
              "    </tr>\n",
              "  </thead>\n",
              "  <tbody>\n",
              "    <tr>\n",
              "      <th>0</th>\n",
              "      <td>276.12</td>\n",
              "      <td>45.36</td>\n",
              "      <td>83.04</td>\n",
              "      <td>26.52</td>\n",
              "    </tr>\n",
              "    <tr>\n",
              "      <th>1</th>\n",
              "      <td>53.40</td>\n",
              "      <td>47.16</td>\n",
              "      <td>54.12</td>\n",
              "      <td>12.48</td>\n",
              "    </tr>\n",
              "    <tr>\n",
              "      <th>2</th>\n",
              "      <td>20.64</td>\n",
              "      <td>55.08</td>\n",
              "      <td>83.16</td>\n",
              "      <td>11.16</td>\n",
              "    </tr>\n",
              "    <tr>\n",
              "      <th>3</th>\n",
              "      <td>181.80</td>\n",
              "      <td>49.56</td>\n",
              "      <td>70.20</td>\n",
              "      <td>22.20</td>\n",
              "    </tr>\n",
              "    <tr>\n",
              "      <th>4</th>\n",
              "      <td>216.96</td>\n",
              "      <td>12.96</td>\n",
              "      <td>70.08</td>\n",
              "      <td>15.48</td>\n",
              "    </tr>\n",
              "  </tbody>\n",
              "</table>\n",
              "</div>\n",
              "    <div class=\"colab-df-buttons\">\n",
              "\n",
              "  <div class=\"colab-df-container\">\n",
              "    <button class=\"colab-df-convert\" onclick=\"convertToInteractive('df-429c523c-6c63-4e03-afaa-d94b79176228')\"\n",
              "            title=\"Convert this dataframe to an interactive table.\"\n",
              "            style=\"display:none;\">\n",
              "\n",
              "  <svg xmlns=\"http://www.w3.org/2000/svg\" height=\"24px\" viewBox=\"0 -960 960 960\">\n",
              "    <path d=\"M120-120v-720h720v720H120Zm60-500h600v-160H180v160Zm220 220h160v-160H400v160Zm0 220h160v-160H400v160ZM180-400h160v-160H180v160Zm440 0h160v-160H620v160ZM180-180h160v-160H180v160Zm440 0h160v-160H620v160Z\"/>\n",
              "  </svg>\n",
              "    </button>\n",
              "\n",
              "  <style>\n",
              "    .colab-df-container {\n",
              "      display:flex;\n",
              "      gap: 12px;\n",
              "    }\n",
              "\n",
              "    .colab-df-convert {\n",
              "      background-color: #E8F0FE;\n",
              "      border: none;\n",
              "      border-radius: 50%;\n",
              "      cursor: pointer;\n",
              "      display: none;\n",
              "      fill: #1967D2;\n",
              "      height: 32px;\n",
              "      padding: 0 0 0 0;\n",
              "      width: 32px;\n",
              "    }\n",
              "\n",
              "    .colab-df-convert:hover {\n",
              "      background-color: #E2EBFA;\n",
              "      box-shadow: 0px 1px 2px rgba(60, 64, 67, 0.3), 0px 1px 3px 1px rgba(60, 64, 67, 0.15);\n",
              "      fill: #174EA6;\n",
              "    }\n",
              "\n",
              "    .colab-df-buttons div {\n",
              "      margin-bottom: 4px;\n",
              "    }\n",
              "\n",
              "    [theme=dark] .colab-df-convert {\n",
              "      background-color: #3B4455;\n",
              "      fill: #D2E3FC;\n",
              "    }\n",
              "\n",
              "    [theme=dark] .colab-df-convert:hover {\n",
              "      background-color: #434B5C;\n",
              "      box-shadow: 0px 1px 3px 1px rgba(0, 0, 0, 0.15);\n",
              "      filter: drop-shadow(0px 1px 2px rgba(0, 0, 0, 0.3));\n",
              "      fill: #FFFFFF;\n",
              "    }\n",
              "  </style>\n",
              "\n",
              "    <script>\n",
              "      const buttonEl =\n",
              "        document.querySelector('#df-429c523c-6c63-4e03-afaa-d94b79176228 button.colab-df-convert');\n",
              "      buttonEl.style.display =\n",
              "        google.colab.kernel.accessAllowed ? 'block' : 'none';\n",
              "\n",
              "      async function convertToInteractive(key) {\n",
              "        const element = document.querySelector('#df-429c523c-6c63-4e03-afaa-d94b79176228');\n",
              "        const dataTable =\n",
              "          await google.colab.kernel.invokeFunction('convertToInteractive',\n",
              "                                                    [key], {});\n",
              "        if (!dataTable) return;\n",
              "\n",
              "        const docLinkHtml = 'Like what you see? Visit the ' +\n",
              "          '<a target=\"_blank\" href=https://colab.research.google.com/notebooks/data_table.ipynb>data table notebook</a>'\n",
              "          + ' to learn more about interactive tables.';\n",
              "        element.innerHTML = '';\n",
              "        dataTable['output_type'] = 'display_data';\n",
              "        await google.colab.output.renderOutput(dataTable, element);\n",
              "        const docLink = document.createElement('div');\n",
              "        docLink.innerHTML = docLinkHtml;\n",
              "        element.appendChild(docLink);\n",
              "      }\n",
              "    </script>\n",
              "  </div>\n",
              "\n",
              "\n",
              "    <div id=\"df-316e0a9a-edb6-4916-bded-bb8656e48ed2\">\n",
              "      <button class=\"colab-df-quickchart\" onclick=\"quickchart('df-316e0a9a-edb6-4916-bded-bb8656e48ed2')\"\n",
              "                title=\"Suggest charts\"\n",
              "                style=\"display:none;\">\n",
              "\n",
              "<svg xmlns=\"http://www.w3.org/2000/svg\" height=\"24px\"viewBox=\"0 0 24 24\"\n",
              "     width=\"24px\">\n",
              "    <g>\n",
              "        <path d=\"M19 3H5c-1.1 0-2 .9-2 2v14c0 1.1.9 2 2 2h14c1.1 0 2-.9 2-2V5c0-1.1-.9-2-2-2zM9 17H7v-7h2v7zm4 0h-2V7h2v10zm4 0h-2v-4h2v4z\"/>\n",
              "    </g>\n",
              "</svg>\n",
              "      </button>\n",
              "\n",
              "<style>\n",
              "  .colab-df-quickchart {\n",
              "      --bg-color: #E8F0FE;\n",
              "      --fill-color: #1967D2;\n",
              "      --hover-bg-color: #E2EBFA;\n",
              "      --hover-fill-color: #174EA6;\n",
              "      --disabled-fill-color: #AAA;\n",
              "      --disabled-bg-color: #DDD;\n",
              "  }\n",
              "\n",
              "  [theme=dark] .colab-df-quickchart {\n",
              "      --bg-color: #3B4455;\n",
              "      --fill-color: #D2E3FC;\n",
              "      --hover-bg-color: #434B5C;\n",
              "      --hover-fill-color: #FFFFFF;\n",
              "      --disabled-bg-color: #3B4455;\n",
              "      --disabled-fill-color: #666;\n",
              "  }\n",
              "\n",
              "  .colab-df-quickchart {\n",
              "    background-color: var(--bg-color);\n",
              "    border: none;\n",
              "    border-radius: 50%;\n",
              "    cursor: pointer;\n",
              "    display: none;\n",
              "    fill: var(--fill-color);\n",
              "    height: 32px;\n",
              "    padding: 0;\n",
              "    width: 32px;\n",
              "  }\n",
              "\n",
              "  .colab-df-quickchart:hover {\n",
              "    background-color: var(--hover-bg-color);\n",
              "    box-shadow: 0 1px 2px rgba(60, 64, 67, 0.3), 0 1px 3px 1px rgba(60, 64, 67, 0.15);\n",
              "    fill: var(--button-hover-fill-color);\n",
              "  }\n",
              "\n",
              "  .colab-df-quickchart-complete:disabled,\n",
              "  .colab-df-quickchart-complete:disabled:hover {\n",
              "    background-color: var(--disabled-bg-color);\n",
              "    fill: var(--disabled-fill-color);\n",
              "    box-shadow: none;\n",
              "  }\n",
              "\n",
              "  .colab-df-spinner {\n",
              "    border: 2px solid var(--fill-color);\n",
              "    border-color: transparent;\n",
              "    border-bottom-color: var(--fill-color);\n",
              "    animation:\n",
              "      spin 1s steps(1) infinite;\n",
              "  }\n",
              "\n",
              "  @keyframes spin {\n",
              "    0% {\n",
              "      border-color: transparent;\n",
              "      border-bottom-color: var(--fill-color);\n",
              "      border-left-color: var(--fill-color);\n",
              "    }\n",
              "    20% {\n",
              "      border-color: transparent;\n",
              "      border-left-color: var(--fill-color);\n",
              "      border-top-color: var(--fill-color);\n",
              "    }\n",
              "    30% {\n",
              "      border-color: transparent;\n",
              "      border-left-color: var(--fill-color);\n",
              "      border-top-color: var(--fill-color);\n",
              "      border-right-color: var(--fill-color);\n",
              "    }\n",
              "    40% {\n",
              "      border-color: transparent;\n",
              "      border-right-color: var(--fill-color);\n",
              "      border-top-color: var(--fill-color);\n",
              "    }\n",
              "    60% {\n",
              "      border-color: transparent;\n",
              "      border-right-color: var(--fill-color);\n",
              "    }\n",
              "    80% {\n",
              "      border-color: transparent;\n",
              "      border-right-color: var(--fill-color);\n",
              "      border-bottom-color: var(--fill-color);\n",
              "    }\n",
              "    90% {\n",
              "      border-color: transparent;\n",
              "      border-bottom-color: var(--fill-color);\n",
              "    }\n",
              "  }\n",
              "</style>\n",
              "\n",
              "      <script>\n",
              "        async function quickchart(key) {\n",
              "          const quickchartButtonEl =\n",
              "            document.querySelector('#' + key + ' button');\n",
              "          quickchartButtonEl.disabled = true;  // To prevent multiple clicks.\n",
              "          quickchartButtonEl.classList.add('colab-df-spinner');\n",
              "          try {\n",
              "            const charts = await google.colab.kernel.invokeFunction(\n",
              "                'suggestCharts', [key], {});\n",
              "          } catch (error) {\n",
              "            console.error('Error during call to suggestCharts:', error);\n",
              "          }\n",
              "          quickchartButtonEl.classList.remove('colab-df-spinner');\n",
              "          quickchartButtonEl.classList.add('colab-df-quickchart-complete');\n",
              "        }\n",
              "        (() => {\n",
              "          let quickchartButtonEl =\n",
              "            document.querySelector('#df-316e0a9a-edb6-4916-bded-bb8656e48ed2 button');\n",
              "          quickchartButtonEl.style.display =\n",
              "            google.colab.kernel.accessAllowed ? 'block' : 'none';\n",
              "        })();\n",
              "      </script>\n",
              "    </div>\n",
              "\n",
              "    </div>\n",
              "  </div>\n"
            ],
            "application/vnd.google.colaboratory.intrinsic+json": {
              "type": "dataframe",
              "variable_name": "df",
              "summary": "{\n  \"name\": \"df\",\n  \"rows\": 200,\n  \"fields\": [\n    {\n      \"column\": \"youtube\",\n      \"properties\": {\n        \"dtype\": \"number\",\n        \"std\": 103.02508357788969,\n        \"min\": 0.84,\n        \"max\": 355.68,\n        \"num_unique_values\": 190,\n        \"samples\": [\n          345.12,\n          343.2,\n          93.84\n        ],\n        \"semantic_type\": \"\",\n        \"description\": \"\"\n      }\n    },\n    {\n      \"column\": \"facebook\",\n      \"properties\": {\n        \"dtype\": \"number\",\n        \"std\": 17.816171011402467,\n        \"min\": 0.0,\n        \"max\": 59.52,\n        \"num_unique_values\": 167,\n        \"samples\": [\n          9.84,\n          44.28,\n          53.4\n        ],\n        \"semantic_type\": \"\",\n        \"description\": \"\"\n      }\n    },\n    {\n      \"column\": \"newspaper\",\n      \"properties\": {\n        \"dtype\": \"number\",\n        \"std\": 26.1343450062274,\n        \"min\": 0.36,\n        \"max\": 136.8,\n        \"num_unique_values\": 172,\n        \"samples\": [\n          26.76,\n          6.84,\n          20.4\n        ],\n        \"semantic_type\": \"\",\n        \"description\": \"\"\n      }\n    },\n    {\n      \"column\": \"sales\",\n      \"properties\": {\n        \"dtype\": \"number\",\n        \"std\": 6.260947878852574,\n        \"min\": 1.92,\n        \"max\": 32.4,\n        \"num_unique_values\": 121,\n        \"samples\": [\n          13.68,\n          25.44,\n          15.48\n        ],\n        \"semantic_type\": \"\",\n        \"description\": \"\"\n      }\n    }\n  ]\n}"
            }
          },
          "metadata": {},
          "execution_count": 5
        }
      ]
    },
    {
      "cell_type": "markdown",
      "id": "942216ac",
      "metadata": {
        "id": "942216ac"
      },
      "source": [
        "## 2. Train-Test split (without sklearn)"
      ]
    },
    {
      "cell_type": "code",
      "execution_count": null,
      "id": "a5ca58a4",
      "metadata": {
        "id": "a5ca58a4",
        "outputId": "25db7f04-f6dc-4748-dcb6-0e83be732cbb"
      },
      "outputs": [
        {
          "data": {
            "text/html": [
              "<div>\n",
              "<style scoped>\n",
              "    .dataframe tbody tr th:only-of-type {\n",
              "        vertical-align: middle;\n",
              "    }\n",
              "\n",
              "    .dataframe tbody tr th {\n",
              "        vertical-align: top;\n",
              "    }\n",
              "\n",
              "    .dataframe thead th {\n",
              "        text-align: right;\n",
              "    }\n",
              "</style>\n",
              "<table border=\"1\" class=\"dataframe\">\n",
              "  <thead>\n",
              "    <tr style=\"text-align: right;\">\n",
              "      <th></th>\n",
              "      <th>youtube</th>\n",
              "      <th>facebook</th>\n",
              "      <th>newspaper</th>\n",
              "      <th>sales</th>\n",
              "    </tr>\n",
              "  </thead>\n",
              "  <tbody>\n",
              "    <tr>\n",
              "      <th>95</th>\n",
              "      <td>195.96</td>\n",
              "      <td>37.92</td>\n",
              "      <td>63.48</td>\n",
              "      <td>20.28</td>\n",
              "    </tr>\n",
              "    <tr>\n",
              "      <th>15</th>\n",
              "      <td>234.48</td>\n",
              "      <td>57.24</td>\n",
              "      <td>63.48</td>\n",
              "      <td>26.88</td>\n",
              "    </tr>\n",
              "    <tr>\n",
              "      <th>30</th>\n",
              "      <td>351.48</td>\n",
              "      <td>33.96</td>\n",
              "      <td>51.84</td>\n",
              "      <td>25.68</td>\n",
              "    </tr>\n",
              "    <tr>\n",
              "      <th>158</th>\n",
              "      <td>14.04</td>\n",
              "      <td>44.28</td>\n",
              "      <td>54.24</td>\n",
              "      <td>8.76</td>\n",
              "    </tr>\n",
              "    <tr>\n",
              "      <th>128</th>\n",
              "      <td>264.36</td>\n",
              "      <td>58.80</td>\n",
              "      <td>3.84</td>\n",
              "      <td>29.64</td>\n",
              "    </tr>\n",
              "  </tbody>\n",
              "</table>\n",
              "</div>"
            ],
            "text/plain": [
              "     youtube  facebook  newspaper  sales\n",
              "95    195.96     37.92      63.48  20.28\n",
              "15    234.48     57.24      63.48  26.88\n",
              "30    351.48     33.96      51.84  25.68\n",
              "158    14.04     44.28      54.24   8.76\n",
              "128   264.36     58.80       3.84  29.64"
            ]
          },
          "execution_count": 2,
          "metadata": {},
          "output_type": "execute_result"
        }
      ],
      "source": [
        "## Randomizes the data\n",
        "df = df.sample(frac=1, random_state=42)\n",
        "df.head()"
      ]
    },
    {
      "cell_type": "code",
      "execution_count": null,
      "id": "d6192824",
      "metadata": {
        "id": "d6192824",
        "outputId": "cfb63b00-b93e-4095-9d59-2b1e4c4efa92"
      },
      "outputs": [
        {
          "name": "stdout",
          "output_type": "stream",
          "text": [
            "training set size: 160\n",
            "testing set size: 40\n"
          ]
        }
      ],
      "source": [
        "## select split ratio\n",
        "ratio = 0.8\n",
        "\n",
        "## train_size\n",
        "train_size = int(ratio*len(df))\n",
        "\n",
        "## split data into training and testing set\n",
        "df_train = df[0:train_size]\n",
        "df_test = df[train_size:].copy()  ## independent dataframe (instead of a view)\n",
        "\n",
        "## check on training and test size\n",
        "print(f'training set size: {len(df_train)}')\n",
        "print(f'testing set size: {len(df_test)}')"
      ]
    },
    {
      "cell_type": "markdown",
      "id": "b2247e58",
      "metadata": {
        "id": "b2247e58"
      },
      "source": [
        "## 3.  Modelling & Evaluation of model performance"
      ]
    },
    {
      "cell_type": "markdown",
      "id": "0016570b",
      "metadata": {
        "id": "0016570b"
      },
      "source": [
        "### (a) Method 1: using sklearn"
      ]
    },
    {
      "cell_type": "code",
      "execution_count": null,
      "id": "44842b84",
      "metadata": {
        "id": "44842b84",
        "outputId": "8e779588-c444-440f-fcf9-70e8171d33be"
      },
      "outputs": [
        {
          "name": "stdout",
          "output_type": "stream",
          "text": [
            "3.7221271206471993 [ 0.04556078  0.19072034 -0.00660746] 0.9061768033395261\n"
          ]
        }
      ],
      "source": [
        "from sklearn.linear_model import LinearRegression\n",
        "from sklearn.metrics import mean_absolute_percentage_error\n",
        "from sklearn.metrics import mean_squared_error\n",
        "from sklearn.metrics import r2_score\n",
        "\n",
        "## initiate linear regression model\n",
        "model = LinearRegression()\n",
        "\n",
        "## define predictor and response variables\n",
        "X, y = df_train[['youtube', 'facebook', 'newspaper']], df_train['sales']\n",
        "\n",
        "## fit regression model, fit=train\n",
        "model.fit(X,y)\n",
        "\n",
        "## display regression coefficients and R-squared value of the moodel\n",
        "print(model.intercept_, model.coef_, model.score(X,y))"
      ]
    },
    {
      "cell_type": "code",
      "execution_count": null,
      "id": "74c39c5b",
      "metadata": {
        "id": "74c39c5b",
        "outputId": "8bc16b53-e26b-424a-df80-2537179fddce"
      },
      "outputs": [
        {
          "name": "stdout",
          "output_type": "stream",
          "text": [
            "3.6004265392842996 [0.04545172 0.18726581] 0.9054684776114337\n"
          ]
        }
      ],
      "source": [
        "### Refining the model\n",
        "X, y = df_train[['youtube', 'facebook']], df_train['sales']\n",
        "\n",
        "model.fit(X,y)\n",
        "\n",
        "print(model.intercept_, model.coef_, model.score(X,y))"
      ]
    },
    {
      "cell_type": "code",
      "execution_count": null,
      "id": "9000091e",
      "metadata": {
        "id": "9000091e",
        "outputId": "3213470f-774b-454f-aae3-3f32fba32f25"
      },
      "outputs": [
        {
          "name": "stdout",
          "output_type": "stream",
          "text": [
            "The model Mean Absolute Percentage Error: 0.22\n",
            "The model Mean Squared Error: 5.43\n",
            "The model r-squared: 0.87\n"
          ]
        }
      ],
      "source": [
        "## forecasting using trained model\n",
        "predicted_values = model.predict(df_test[['youtube', 'facebook']])\n",
        "df_test.loc[:, 'predicted'] = predicted_values\n",
        "\n",
        "# summarize the fit of the model\n",
        "linear_mape = round(mean_absolute_percentage_error(df_test['sales'], df_test['predicted']),2)\n",
        "linear_mse = round(mean_squared_error(df_test['sales'], df_test['predicted']),2)\n",
        "linear_r2 = round(r2_score(df_test['sales'], df_test['predicted']),2)\n",
        "\n",
        "print(f'The model Mean Absolute Percentage Error: {linear_mape}')\n",
        "print(f'The model Mean Squared Error: {linear_mse}')\n",
        "print(f'The model r-squared: {linear_r2}')"
      ]
    },
    {
      "cell_type": "markdown",
      "id": "557aefa9",
      "metadata": {
        "id": "557aefa9"
      },
      "source": [
        "### (b) ASIDE:  Method 2: Using statsmodels (an alternative to sklearn)"
      ]
    },
    {
      "cell_type": "code",
      "execution_count": null,
      "id": "3f56b17f",
      "metadata": {
        "id": "3f56b17f",
        "outputId": "14d23d84-180c-4b1d-9527-72599651ab23"
      },
      "outputs": [
        {
          "name": "stdout",
          "output_type": "stream",
          "text": [
            "                            OLS Regression Results                            \n",
            "==============================================================================\n",
            "Dep. Variable:                  sales   R-squared:                       0.906\n",
            "Model:                            OLS   Adj. R-squared:                  0.904\n",
            "Method:                 Least Squares   F-statistic:                     502.2\n",
            "Date:                Tue, 11 Feb 2025   Prob (F-statistic):           6.60e-80\n",
            "Time:                        20:46:05   Log-Likelihood:                -330.17\n",
            "No. Observations:                 160   AIC:                             668.3\n",
            "Df Residuals:                     156   BIC:                             680.6\n",
            "Df Model:                           3                                         \n",
            "Covariance Type:            nonrobust                                         \n",
            "==============================================================================\n",
            "                 coef    std err          t      P>|t|      [0.025      0.975]\n",
            "------------------------------------------------------------------------------\n",
            "const          3.7221      0.392      9.504      0.000       2.949       4.496\n",
            "youtube        0.0456      0.001     30.794      0.000       0.043       0.048\n",
            "facebook       0.1907      0.009     20.729      0.000       0.173       0.209\n",
            "newspaper     -0.0066      0.006     -1.085      0.279      -0.019       0.005\n",
            "==============================================================================\n",
            "Omnibus:                       17.396   Durbin-Watson:                   1.969\n",
            "Prob(Omnibus):                  0.000   Jarque-Bera (JB):               19.804\n",
            "Skew:                          -0.847   Prob(JB):                     5.01e-05\n",
            "Kurtosis:                       3.321   Cond. No.                         533.\n",
            "==============================================================================\n",
            "\n",
            "Notes:\n",
            "[1] Standard Errors assume that the covariance matrix of the errors is correctly specified.\n"
          ]
        }
      ],
      "source": [
        "import statsmodels.api as sm\n",
        "\n",
        "## define response variable\n",
        "y = df_train['sales']\n",
        "\n",
        "## define predictor variables\n",
        "x = df_train[['youtube', 'facebook', 'newspaper']]\n",
        "\n",
        "## add a constant to predictor variables\n",
        "x = sm.add_constant(x)\n",
        "\n",
        "## fit linear regression model\n",
        "model = sm.OLS(y, x).fit()\n",
        "\n",
        "## view model summary\n",
        "print(model.summary())"
      ]
    },
    {
      "cell_type": "markdown",
      "id": "541a2d9c",
      "metadata": {
        "id": "541a2d9c"
      },
      "source": [
        "## 4. Making sense of the predicted results"
      ]
    },
    {
      "cell_type": "code",
      "execution_count": null,
      "id": "3ca54d7c",
      "metadata": {
        "id": "3ca54d7c",
        "outputId": "f10d1d02-ad90-4354-83a5-4928bb658b40"
      },
      "outputs": [
        {
          "data": {
            "text/html": [
              "<div>\n",
              "<style scoped>\n",
              "    .dataframe tbody tr th:only-of-type {\n",
              "        vertical-align: middle;\n",
              "    }\n",
              "\n",
              "    .dataframe tbody tr th {\n",
              "        vertical-align: top;\n",
              "    }\n",
              "\n",
              "    .dataframe thead th {\n",
              "        text-align: right;\n",
              "    }\n",
              "</style>\n",
              "<table border=\"1\" class=\"dataframe\">\n",
              "  <thead>\n",
              "    <tr style=\"text-align: right;\">\n",
              "      <th></th>\n",
              "      <th>youtube</th>\n",
              "      <th>facebook</th>\n",
              "      <th>newspaper</th>\n",
              "      <th>sales</th>\n",
              "      <th>predicted</th>\n",
              "    </tr>\n",
              "  </thead>\n",
              "  <tbody>\n",
              "    <tr>\n",
              "      <th>175</th>\n",
              "      <td>332.28</td>\n",
              "      <td>58.68</td>\n",
              "      <td>50.16</td>\n",
              "      <td>32.40</td>\n",
              "      <td>29.691881</td>\n",
              "    </tr>\n",
              "    <tr>\n",
              "      <th>134</th>\n",
              "      <td>44.28</td>\n",
              "      <td>46.32</td>\n",
              "      <td>78.72</td>\n",
              "      <td>12.96</td>\n",
              "      <td>14.287181</td>\n",
              "    </tr>\n",
              "    <tr>\n",
              "      <th>167</th>\n",
              "      <td>248.16</td>\n",
              "      <td>6.24</td>\n",
              "      <td>23.28</td>\n",
              "      <td>14.64</td>\n",
              "      <td>16.048264</td>\n",
              "    </tr>\n",
              "    <tr>\n",
              "      <th>183</th>\n",
              "      <td>345.12</td>\n",
              "      <td>51.60</td>\n",
              "      <td>86.16</td>\n",
              "      <td>31.44</td>\n",
              "      <td>28.949640</td>\n",
              "    </tr>\n",
              "    <tr>\n",
              "      <th>63</th>\n",
              "      <td>123.24</td>\n",
              "      <td>35.52</td>\n",
              "      <td>10.08</td>\n",
              "      <td>16.80</td>\n",
              "      <td>15.853578</td>\n",
              "    </tr>\n",
              "  </tbody>\n",
              "</table>\n",
              "</div>"
            ],
            "text/plain": [
              "     youtube  facebook  newspaper  sales  predicted\n",
              "175   332.28     58.68      50.16  32.40  29.691881\n",
              "134    44.28     46.32      78.72  12.96  14.287181\n",
              "167   248.16      6.24      23.28  14.64  16.048264\n",
              "183   345.12     51.60      86.16  31.44  28.949640\n",
              "63    123.24     35.52      10.08  16.80  15.853578"
            ]
          },
          "execution_count": 7,
          "metadata": {},
          "output_type": "execute_result"
        }
      ],
      "source": [
        "df_test.head()"
      ]
    },
    {
      "cell_type": "code",
      "execution_count": null,
      "id": "215c1906",
      "metadata": {
        "id": "215c1906",
        "outputId": "523f1dee-da4f-4f88-ed75-27dba3a6d243"
      },
      "outputs": [
        {
          "name": "stdout",
          "output_type": "stream",
          "text": [
            "3.6004265392842996 [0.04545172 0.18726581] 0.9054684776114337\n"
          ]
        }
      ],
      "source": [
        "print(model.intercept_, model.coef_, model.score(X,y))"
      ]
    },
    {
      "cell_type": "code",
      "execution_count": null,
      "id": "9da3a120",
      "metadata": {
        "id": "9da3a120",
        "outputId": "97c17880-bdaa-4b1d-ed22-43bace3f45d1"
      },
      "outputs": [
        {
          "name": "stdout",
          "output_type": "stream",
          "text": [
            "29.6918817916843\n"
          ]
        }
      ],
      "source": [
        "## for first predicted result in the testing data:\n",
        "predicted_1 = 3.6004265392842996 + (0.04545172*332.28) + (0.18726581*58.68)\n",
        "print(predicted_1)"
      ]
    },
    {
      "cell_type": "markdown",
      "id": "acc5f594",
      "metadata": {
        "id": "acc5f594"
      },
      "source": [
        "prediction = 3.6 + 0.046*(youtube) + 0.187*(facebook)"
      ]
    },
    {
      "cell_type": "markdown",
      "id": "cd65cd4d",
      "metadata": {
        "id": "cd65cd4d"
      },
      "source": [
        "## 5. Model Evaluation"
      ]
    },
    {
      "cell_type": "markdown",
      "id": "228c4c05",
      "metadata": {
        "id": "228c4c05"
      },
      "source": [
        "### Mean Squared Error (MSE)"
      ]
    },
    {
      "cell_type": "code",
      "execution_count": null,
      "id": "bbf41f0b",
      "metadata": {
        "id": "bbf41f0b",
        "outputId": "4f8357e0-0daf-40a5-baa6-ddd1a3c8a310"
      },
      "outputs": [
        {
          "data": {
            "text/html": [
              "<div>\n",
              "<style scoped>\n",
              "    .dataframe tbody tr th:only-of-type {\n",
              "        vertical-align: middle;\n",
              "    }\n",
              "\n",
              "    .dataframe tbody tr th {\n",
              "        vertical-align: top;\n",
              "    }\n",
              "\n",
              "    .dataframe thead th {\n",
              "        text-align: right;\n",
              "    }\n",
              "</style>\n",
              "<table border=\"1\" class=\"dataframe\">\n",
              "  <thead>\n",
              "    <tr style=\"text-align: right;\">\n",
              "      <th></th>\n",
              "      <th>youtube</th>\n",
              "      <th>facebook</th>\n",
              "      <th>newspaper</th>\n",
              "      <th>sales</th>\n",
              "      <th>predicted</th>\n",
              "      <th>sq_error</th>\n",
              "    </tr>\n",
              "  </thead>\n",
              "  <tbody>\n",
              "    <tr>\n",
              "      <th>175</th>\n",
              "      <td>332.28</td>\n",
              "      <td>58.68</td>\n",
              "      <td>50.16</td>\n",
              "      <td>32.40</td>\n",
              "      <td>29.691881</td>\n",
              "      <td>7.333906</td>\n",
              "    </tr>\n",
              "    <tr>\n",
              "      <th>134</th>\n",
              "      <td>44.28</td>\n",
              "      <td>46.32</td>\n",
              "      <td>78.72</td>\n",
              "      <td>12.96</td>\n",
              "      <td>14.287181</td>\n",
              "      <td>1.761409</td>\n",
              "    </tr>\n",
              "    <tr>\n",
              "      <th>167</th>\n",
              "      <td>248.16</td>\n",
              "      <td>6.24</td>\n",
              "      <td>23.28</td>\n",
              "      <td>14.64</td>\n",
              "      <td>16.048264</td>\n",
              "      <td>1.983207</td>\n",
              "    </tr>\n",
              "    <tr>\n",
              "      <th>183</th>\n",
              "      <td>345.12</td>\n",
              "      <td>51.60</td>\n",
              "      <td>86.16</td>\n",
              "      <td>31.44</td>\n",
              "      <td>28.949640</td>\n",
              "      <td>6.201895</td>\n",
              "    </tr>\n",
              "    <tr>\n",
              "      <th>63</th>\n",
              "      <td>123.24</td>\n",
              "      <td>35.52</td>\n",
              "      <td>10.08</td>\n",
              "      <td>16.80</td>\n",
              "      <td>15.853578</td>\n",
              "      <td>0.895715</td>\n",
              "    </tr>\n",
              "  </tbody>\n",
              "</table>\n",
              "</div>"
            ],
            "text/plain": [
              "     youtube  facebook  newspaper  sales  predicted  sq_error\n",
              "175   332.28     58.68      50.16  32.40  29.691881  7.333906\n",
              "134    44.28     46.32      78.72  12.96  14.287181  1.761409\n",
              "167   248.16      6.24      23.28  14.64  16.048264  1.983207\n",
              "183   345.12     51.60      86.16  31.44  28.949640  6.201895\n",
              "63    123.24     35.52      10.08  16.80  15.853578  0.895715"
            ]
          },
          "execution_count": 9,
          "metadata": {},
          "output_type": "execute_result"
        }
      ],
      "source": [
        "df_test['sq_error'] = (df_test['sales'] - df_test['predicted']) ** 2\n",
        "df_test.head()"
      ]
    },
    {
      "cell_type": "code",
      "execution_count": null,
      "id": "9402364e",
      "metadata": {
        "id": "9402364e",
        "outputId": "db9c932a-8120-4ac6-84a4-a8a2d1769a11"
      },
      "outputs": [
        {
          "name": "stdout",
          "output_type": "stream",
          "text": [
            "Our calculated mean squared error (mse): 5.427346751621543\n",
            "Earlier calculated mse by sklearn: 5.43\n"
          ]
        }
      ],
      "source": [
        "print(f'Our calculated mean squared error (mse): {df_test[\"sq_error\"].mean()}')\n",
        "print(f'Earlier calculated mse by sklearn: {linear_mse}')"
      ]
    },
    {
      "cell_type": "markdown",
      "id": "f18f3e49",
      "metadata": {
        "id": "f18f3e49"
      },
      "source": [
        "### Mean Absolute Percentage Error (MAPE)"
      ]
    },
    {
      "cell_type": "code",
      "execution_count": null,
      "id": "6f9fd401",
      "metadata": {
        "id": "6f9fd401",
        "outputId": "bbf2555f-a8be-4940-bb5d-635cfb78af36"
      },
      "outputs": [
        {
          "data": {
            "text/html": [
              "<div>\n",
              "<style scoped>\n",
              "    .dataframe tbody tr th:only-of-type {\n",
              "        vertical-align: middle;\n",
              "    }\n",
              "\n",
              "    .dataframe tbody tr th {\n",
              "        vertical-align: top;\n",
              "    }\n",
              "\n",
              "    .dataframe thead th {\n",
              "        text-align: right;\n",
              "    }\n",
              "</style>\n",
              "<table border=\"1\" class=\"dataframe\">\n",
              "  <thead>\n",
              "    <tr style=\"text-align: right;\">\n",
              "      <th></th>\n",
              "      <th>youtube</th>\n",
              "      <th>facebook</th>\n",
              "      <th>newspaper</th>\n",
              "      <th>sales</th>\n",
              "      <th>predicted</th>\n",
              "      <th>sq_error</th>\n",
              "      <th>APE</th>\n",
              "    </tr>\n",
              "  </thead>\n",
              "  <tbody>\n",
              "    <tr>\n",
              "      <th>175</th>\n",
              "      <td>332.28</td>\n",
              "      <td>58.68</td>\n",
              "      <td>50.16</td>\n",
              "      <td>32.40</td>\n",
              "      <td>29.691881</td>\n",
              "      <td>7.333906</td>\n",
              "      <td>8.358391</td>\n",
              "    </tr>\n",
              "    <tr>\n",
              "      <th>134</th>\n",
              "      <td>44.28</td>\n",
              "      <td>46.32</td>\n",
              "      <td>78.72</td>\n",
              "      <td>12.96</td>\n",
              "      <td>14.287181</td>\n",
              "      <td>1.761409</td>\n",
              "      <td>10.240594</td>\n",
              "    </tr>\n",
              "    <tr>\n",
              "      <th>167</th>\n",
              "      <td>248.16</td>\n",
              "      <td>6.24</td>\n",
              "      <td>23.28</td>\n",
              "      <td>14.64</td>\n",
              "      <td>16.048264</td>\n",
              "      <td>1.983207</td>\n",
              "      <td>9.619288</td>\n",
              "    </tr>\n",
              "    <tr>\n",
              "      <th>183</th>\n",
              "      <td>345.12</td>\n",
              "      <td>51.60</td>\n",
              "      <td>86.16</td>\n",
              "      <td>31.44</td>\n",
              "      <td>28.949640</td>\n",
              "      <td>6.201895</td>\n",
              "      <td>7.920994</td>\n",
              "    </tr>\n",
              "    <tr>\n",
              "      <th>63</th>\n",
              "      <td>123.24</td>\n",
              "      <td>35.52</td>\n",
              "      <td>10.08</td>\n",
              "      <td>16.80</td>\n",
              "      <td>15.853578</td>\n",
              "      <td>0.895715</td>\n",
              "      <td>5.633465</td>\n",
              "    </tr>\n",
              "  </tbody>\n",
              "</table>\n",
              "</div>"
            ],
            "text/plain": [
              "     youtube  facebook  newspaper  sales  predicted  sq_error        APE\n",
              "175   332.28     58.68      50.16  32.40  29.691881  7.333906   8.358391\n",
              "134    44.28     46.32      78.72  12.96  14.287181  1.761409  10.240594\n",
              "167   248.16      6.24      23.28  14.64  16.048264  1.983207   9.619288\n",
              "183   345.12     51.60      86.16  31.44  28.949640  6.201895   7.920994\n",
              "63    123.24     35.52      10.08  16.80  15.853578  0.895715   5.633465"
            ]
          },
          "execution_count": 12,
          "metadata": {},
          "output_type": "execute_result"
        }
      ],
      "source": [
        "df_test['APE'] = abs((df_test['sales'] - df_test['predicted']) / df_test['sales']) * 100\n",
        "df_test.head()"
      ]
    },
    {
      "cell_type": "code",
      "execution_count": null,
      "id": "13112000",
      "metadata": {
        "id": "13112000",
        "outputId": "6510798b-5816-4105-8f0d-2ec821dd1948"
      },
      "outputs": [
        {
          "name": "stdout",
          "output_type": "stream",
          "text": [
            "Our calculated mean abolsute percentage error (MAPE): 22.24182566229485\n",
            "Earlier calculated MAPE by sklearn: 0.22\n"
          ]
        }
      ],
      "source": [
        "print(f'Our calculated mean abolsute percentage error (MAPE): {df_test[\"APE\"].mean()}')\n",
        "print(f'Earlier calculated MAPE by sklearn: {linear_mape}')"
      ]
    },
    {
      "cell_type": "markdown",
      "id": "0e0ef922",
      "metadata": {
        "id": "0e0ef922"
      },
      "source": [
        "### R-Squared (R^2)"
      ]
    },
    {
      "cell_type": "code",
      "execution_count": null,
      "id": "470702e2",
      "metadata": {
        "id": "470702e2",
        "outputId": "5a3829b9-c360-407b-f76f-af6c982b2b0d"
      },
      "outputs": [
        {
          "data": {
            "text/html": [
              "<div>\n",
              "<style scoped>\n",
              "    .dataframe tbody tr th:only-of-type {\n",
              "        vertical-align: middle;\n",
              "    }\n",
              "\n",
              "    .dataframe tbody tr th {\n",
              "        vertical-align: top;\n",
              "    }\n",
              "\n",
              "    .dataframe thead th {\n",
              "        text-align: right;\n",
              "    }\n",
              "</style>\n",
              "<table border=\"1\" class=\"dataframe\">\n",
              "  <thead>\n",
              "    <tr style=\"text-align: right;\">\n",
              "      <th></th>\n",
              "      <th>youtube</th>\n",
              "      <th>facebook</th>\n",
              "      <th>newspaper</th>\n",
              "      <th>sales</th>\n",
              "      <th>predicted</th>\n",
              "      <th>sq_error</th>\n",
              "      <th>APE</th>\n",
              "      <th>SST</th>\n",
              "      <th>SSR</th>\n",
              "    </tr>\n",
              "  </thead>\n",
              "  <tbody>\n",
              "    <tr>\n",
              "      <th>175</th>\n",
              "      <td>332.28</td>\n",
              "      <td>58.68</td>\n",
              "      <td>50.16</td>\n",
              "      <td>32.40</td>\n",
              "      <td>29.691881</td>\n",
              "      <td>7.333906</td>\n",
              "      <td>8.358391</td>\n",
              "      <td>238.795209</td>\n",
              "      <td>7.333906</td>\n",
              "    </tr>\n",
              "    <tr>\n",
              "      <th>134</th>\n",
              "      <td>44.28</td>\n",
              "      <td>46.32</td>\n",
              "      <td>78.72</td>\n",
              "      <td>12.96</td>\n",
              "      <td>14.287181</td>\n",
              "      <td>1.761409</td>\n",
              "      <td>10.240594</td>\n",
              "      <td>15.896169</td>\n",
              "      <td>1.761409</td>\n",
              "    </tr>\n",
              "    <tr>\n",
              "      <th>167</th>\n",
              "      <td>248.16</td>\n",
              "      <td>6.24</td>\n",
              "      <td>23.28</td>\n",
              "      <td>14.64</td>\n",
              "      <td>16.048264</td>\n",
              "      <td>1.983207</td>\n",
              "      <td>9.619288</td>\n",
              "      <td>5.322249</td>\n",
              "      <td>1.983207</td>\n",
              "    </tr>\n",
              "    <tr>\n",
              "      <th>183</th>\n",
              "      <td>345.12</td>\n",
              "      <td>51.60</td>\n",
              "      <td>86.16</td>\n",
              "      <td>31.44</td>\n",
              "      <td>28.949640</td>\n",
              "      <td>6.201895</td>\n",
              "      <td>7.920994</td>\n",
              "      <td>210.047049</td>\n",
              "      <td>6.201895</td>\n",
              "    </tr>\n",
              "    <tr>\n",
              "      <th>63</th>\n",
              "      <td>123.24</td>\n",
              "      <td>35.52</td>\n",
              "      <td>10.08</td>\n",
              "      <td>16.80</td>\n",
              "      <td>15.853578</td>\n",
              "      <td>0.895715</td>\n",
              "      <td>5.633465</td>\n",
              "      <td>0.021609</td>\n",
              "      <td>0.895715</td>\n",
              "    </tr>\n",
              "  </tbody>\n",
              "</table>\n",
              "</div>"
            ],
            "text/plain": [
              "     youtube  facebook  newspaper  sales  predicted  sq_error        APE  \\\n",
              "175   332.28     58.68      50.16  32.40  29.691881  7.333906   8.358391   \n",
              "134    44.28     46.32      78.72  12.96  14.287181  1.761409  10.240594   \n",
              "167   248.16      6.24      23.28  14.64  16.048264  1.983207   9.619288   \n",
              "183   345.12     51.60      86.16  31.44  28.949640  6.201895   7.920994   \n",
              "63    123.24     35.52      10.08  16.80  15.853578  0.895715   5.633465   \n",
              "\n",
              "            SST       SSR  \n",
              "175  238.795209  7.333906  \n",
              "134   15.896169  1.761409  \n",
              "167    5.322249  1.983207  \n",
              "183  210.047049  6.201895  \n",
              "63     0.021609  0.895715  "
            ]
          },
          "execution_count": 14,
          "metadata": {},
          "output_type": "execute_result"
        }
      ],
      "source": [
        "# Calculate the mean of 'sales'\n",
        "mean_sales = df_test['sales'].mean()\n",
        "\n",
        "# Calculate SST (Total Sum of Squares)\n",
        "df_test['SST'] = (df_test['sales'] - mean_sales) ** 2\n",
        "\n",
        "# Calculate SSR (Sum of Squares of Residuals)\n",
        "df_test['SSR'] = (df_test['sales'] - df_test['predicted']) ** 2\n",
        "\n",
        "# Calculate R-squared\n",
        "r2 = 1 - df_test['SSR'].sum() / df_test['SST'].sum()\n",
        "\n",
        "df_test.head()"
      ]
    },
    {
      "cell_type": "code",
      "execution_count": null,
      "id": "0a4ce3a1",
      "metadata": {
        "id": "0a4ce3a1",
        "outputId": "09a3e690-adad-4bb0-c90c-5d623bbca452"
      },
      "outputs": [
        {
          "name": "stdout",
          "output_type": "stream",
          "text": [
            "Our calculated R-Squared: 0.8651221957423947\n",
            "Earlier calculated R-Squared by sklearn: 0.87\n"
          ]
        }
      ],
      "source": [
        "print(f'Our calculated R-Squared: {r2}')\n",
        "print(f'Earlier calculated R-Squared by sklearn: {linear_r2}')"
      ]
    }
  ],
  "metadata": {
    "kernelspec": {
      "display_name": "Python 3 (ipykernel)",
      "language": "python",
      "name": "python3"
    },
    "language_info": {
      "codemirror_mode": {
        "name": "ipython",
        "version": 3
      },
      "file_extension": ".py",
      "mimetype": "text/x-python",
      "name": "python",
      "nbconvert_exporter": "python",
      "pygments_lexer": "ipython3",
      "version": "3.13.5"
    },
    "colab": {
      "provenance": [],
      "include_colab_link": true
    }
  },
  "nbformat": 4,
  "nbformat_minor": 5
}